{
  "nbformat": 4,
  "nbformat_minor": 0,
  "metadata": {
    "colab": {
      "provenance": []
    },
    "kernelspec": {
      "name": "python3",
      "display_name": "Python 3"
    },
    "language_info": {
      "name": "python"
    }
  },
  "cells": [
    {
      "cell_type": "code",
      "execution_count": 9,
      "metadata": {
        "colab": {
          "base_uri": "https://localhost:8080/"
        },
        "id": "4FAs5nqVbQnD",
        "outputId": "45df2afe-7233-409b-b7dc-8e57cea83739"
      },
      "outputs": [
        {
          "output_type": "stream",
          "name": "stdout",
          "text": [
            "Requirement already satisfied: pandas in /usr/local/lib/python3.11/dist-packages (2.2.2)\n",
            "Requirement already satisfied: numpy in /usr/local/lib/python3.11/dist-packages (2.0.2)\n",
            "Requirement already satisfied: scikit-learn in /usr/local/lib/python3.11/dist-packages (1.6.1)\n",
            "Requirement already satisfied: cryptography in /usr/local/lib/python3.11/dist-packages (43.0.3)\n",
            "Requirement already satisfied: python-dateutil>=2.8.2 in /usr/local/lib/python3.11/dist-packages (from pandas) (2.8.2)\n",
            "Requirement already satisfied: pytz>=2020.1 in /usr/local/lib/python3.11/dist-packages (from pandas) (2025.1)\n",
            "Requirement already satisfied: tzdata>=2022.7 in /usr/local/lib/python3.11/dist-packages (from pandas) (2025.1)\n",
            "Requirement already satisfied: scipy>=1.6.0 in /usr/local/lib/python3.11/dist-packages (from scikit-learn) (1.14.1)\n",
            "Requirement already satisfied: joblib>=1.2.0 in /usr/local/lib/python3.11/dist-packages (from scikit-learn) (1.4.2)\n",
            "Requirement already satisfied: threadpoolctl>=3.1.0 in /usr/local/lib/python3.11/dist-packages (from scikit-learn) (3.6.0)\n",
            "Requirement already satisfied: cffi>=1.12 in /usr/local/lib/python3.11/dist-packages (from cryptography) (1.17.1)\n",
            "Requirement already satisfied: pycparser in /usr/local/lib/python3.11/dist-packages (from cffi>=1.12->cryptography) (2.22)\n",
            "Requirement already satisfied: six>=1.5 in /usr/local/lib/python3.11/dist-packages (from python-dateutil>=2.8.2->pandas) (1.17.0)\n"
          ]
        }
      ],
      "source": [
        "pip install pandas numpy scikit-learn cryptography"
      ]
    },
    {
      "cell_type": "code",
      "source": [
        "import pandas as pd\n",
        "import numpy as np\n",
        "from sklearn.model_selection import train_test_split\n",
        "from sklearn.preprocessing import StandardScaler\n",
        "from sklearn.linear_model import LogisticRegression\n",
        "from sklearn.metrics import accuracy_score, classification_report\n",
        "from cryptography.fernet import Fernet\n",
        "import pickle\n",
        "import json\n",
        "import base64  # Import base64 for encoding/decoding bytes\n",
        "\n",
        "# Data encryption class for HIPAA compliance simulation\n",
        "class DataSecurity:\n",
        "    def __init__(self):\n",
        "        self.key = Fernet.generate_key()\n",
        "        self.cipher = Fernet(self.key)\n",
        "\n",
        "    def encrypt_data(self, data):\n",
        "        # Convert numpy array to list and then to JSON string before encryption\n",
        "        if isinstance(data, np.ndarray):\n",
        "            data = data.tolist()\n",
        "        # Encode the pickled data to base64 before encryption\n",
        "        pickled_data = pickle.dumps(data)\n",
        "        encoded_data = base64.b64encode(pickled_data).decode('utf-8')  # Encode to base64 string\n",
        "        encrypted_data = self.cipher.encrypt(encoded_data.encode())\n",
        "        return encrypted_data\n",
        "\n",
        "    def decrypt_data(self, encrypted_data):\n",
        "        # Decrypt and convert back from JSON string\n",
        "        decrypted_data = self.cipher.decrypt(encrypted_data).decode()\n",
        "        decoded_data = base64.b64decode(decrypted_data.encode('utf-8'))  # Decode from base64 string\n",
        "        data = pickle.loads(decoded_data)\n",
        "        return data\n",
        "\n",
        "# ... (Rest of the code remains the same) ...\n",
        "\n",
        "# Load and preprocess the data\n",
        "def load_and_preprocess_data():\n",
        "    df = pd.read_csv('/content/Heart.csv')\n",
        "\n",
        "    chest_pain_map = {'typical': 1, 'asymptomatic': 2, 'nonanginal': 3, 'nontypical': 4}\n",
        "    thal_map = {'fixed': 1, 'normal': 2, 'reversable': 3, 'NA': 0}\n",
        "    ahd_map = {'No': 0, 'Yes': 1}\n",
        "\n",
        "    df['ChestPain'] = df['ChestPain'].map(chest_pain_map)\n",
        "    df['Thal'] = df['Thal'].map(thal_map)\n",
        "    df['AHD'] = df['AHD'].map(ahd_map)\n",
        "\n",
        "    df = df.replace('NA', np.nan)\n",
        "    df = df.dropna()\n",
        "\n",
        "    X = df.drop(['AHD'], axis=1)\n",
        "    y = df['AHD']\n",
        "\n",
        "    return X, y\n",
        "\n",
        "# Main prediction class\n",
        "class HeartDiseasePredictor:\n",
        "    def __init__(self):\n",
        "        self.scaler = StandardScaler()\n",
        "        self.model = LogisticRegression(max_iter=1000)\n",
        "        self.security = DataSecurity()\n",
        "\n",
        "    def train_model(self, X, y):\n",
        "        X_train, X_test, y_train, y_test = train_test_split(X, y, test_size=0.2, random_state=42)\n",
        "\n",
        "        X_train_scaled = self.scaler.fit_transform(X_train)\n",
        "        X_test_scaled = self.scaler.transform(X_test)\n",
        "\n",
        "        self.model.fit(X_train_scaled, y_train)\n",
        "\n",
        "        y_pred = self.model.predict(X_test_scaled)\n",
        "        accuracy = accuracy_score(y_test, y_pred)\n",
        "\n",
        "        print(f\"Model Accuracy: {accuracy:.2%}\")\n",
        "        print(\"\\nClassification Report:\")\n",
        "        print(classification_report(y_test, y_pred))\n",
        "\n",
        "        return accuracy\n",
        "\n",
        "    def predict(self, patient_data):\n",
        "        scaled_data = self.scaler.transform(patient_data)\n",
        "        prediction = self.model.predict(scaled_data)\n",
        "        probability = self.model.predict_proba(scaled_data)\n",
        "\n",
        "        return prediction, probability\n",
        "\n",
        "    def save_model(self, filename='heart_disease_model.pkl'):\n",
        "        model_data = {\n",
        "            'scaler': self.scaler,\n",
        "            'model': self.model\n",
        "        }\n",
        "        with open(filename, 'wb') as f:\n",
        "            encrypted_data = self.security.encrypt_data(pickle.dumps(model_data))\n",
        "            f.write(encrypted_data)\n",
        "\n",
        "    def load_model(self, filename='heart_disease_model.pkl'):\n",
        "        with open(filename, 'rb') as f:\n",
        "            encrypted_data = f.read()\n",
        "            decrypted_data = self.security.decrypt_data(encrypted_data)\n",
        "            model_data = pickle.loads(decrypted_data.encode())\n",
        "\n",
        "            self.scaler = model_data['scaler']\n",
        "            self.model = model_data['model']\n",
        "\n",
        "# Main execution\n",
        "def main():\n",
        "    X, y = load_and_preprocess_data()\n",
        "\n",
        "    predictor = HeartDiseasePredictor()\n",
        "    accuracy = predictor.train_model(X, y)\n",
        "\n",
        "    predictor.save_model()\n",
        "\n",
        "    # Example prediction for a new patient\n",
        "    sample_patient = X.iloc[0].values.reshape(1, -1)\n",
        "    encrypted_patient_data = predictor.security.encrypt_data(sample_patient)\n",
        "\n",
        "    # Decrypt and predict\n",
        "    decrypted_patient_data = predictor.security.decrypt_data(encrypted_patient_data)\n",
        "    patient_array = np.array(decrypted_patient_data).reshape(1, -1)\n",
        "\n",
        "    prediction, probability = predictor.predict(patient_array)\n",
        "\n",
        "    print(\"\\nSample Patient Prediction:\")\n",
        "    print(f\"Prediction: {'Heart Disease' if prediction[0] == 1 else 'No Heart Disease'}\")\n",
        "    print(f\"Probability: {probability[0][1]:.2%}\")\n",
        "\n",
        "if __name__ == \"__main__\":\n",
        "    main()"
      ],
      "metadata": {
        "colab": {
          "base_uri": "https://localhost:8080/"
        },
        "id": "ssdr_hwkdBuF",
        "outputId": "12fa2f68-fe1d-4333-b2db-1655a80f6fae"
      },
      "execution_count": 10,
      "outputs": [
        {
          "output_type": "stream",
          "name": "stdout",
          "text": [
            "Model Accuracy: 83.33%\n",
            "\n",
            "Classification Report:\n",
            "              precision    recall  f1-score   support\n",
            "\n",
            "           0       0.84      0.89      0.86        36\n",
            "           1       0.82      0.75      0.78        24\n",
            "\n",
            "    accuracy                           0.83        60\n",
            "   macro avg       0.83      0.82      0.82        60\n",
            "weighted avg       0.83      0.83      0.83        60\n",
            "\n",
            "\n",
            "Sample Patient Prediction:\n",
            "Prediction: No Heart Disease\n",
            "Probability: 13.79%\n"
          ]
        },
        {
          "output_type": "stream",
          "name": "stderr",
          "text": [
            "/usr/local/lib/python3.11/dist-packages/sklearn/utils/validation.py:2739: UserWarning: X does not have valid feature names, but StandardScaler was fitted with feature names\n",
            "  warnings.warn(\n"
          ]
        }
      ]
    }
  ]
}